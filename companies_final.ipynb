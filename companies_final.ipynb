{
 "cells": [
  {
   "cell_type": "code",
   "execution_count": 1,
   "id": "785d9412",
   "metadata": {},
   "outputs": [],
   "source": [
    "import pandas as pd\n",
    "import requests\n",
    "from bs4 import BeautifulSoup"
   ]
  },
  {
   "cell_type": "code",
   "execution_count": 2,
   "id": "f25fc852",
   "metadata": {},
   "outputs": [
    {
     "name": "stdout",
     "output_type": "stream",
     "text": [
      "                       name rating reviews benefits\n",
      "0                       TCS    3.8   74.9k    11.6k\n",
      "1                 Accenture    4.0   46.7k     7.2k\n",
      "2                 Cognizant    3.9   41.9k     5.9k\n",
      "3                     Wipro    3.8   40.3k     5.1k\n",
      "4                 Capgemini    3.8   34.5k     4.1k\n",
      "5                 HDFC Bank    4.0   33.7k     3.3k\n",
      "6                ICICI Bank    4.0   33.4k     3.8k\n",
      "7                   Infosys    3.8   32.5k     5.2k\n",
      "8                   HCLTech    3.7   29.3k     4.1k\n",
      "9             Tech Mahindra    3.7   27.8k     3.6k\n",
      "10                  Genpact    3.9   26.3k     3.7k\n",
      "11                Axis Bank    3.9     22k     2.2k\n",
      "12          Teleperformance    3.8   22.9k     2.1k\n",
      "13   Concentrix Corporation    3.9   21.7k     3.3k\n",
      "14                      Jio    4.0   20.3k     2.6k\n",
      "15                   Amazon    4.1   21.1k     4.3k\n",
      "16                      IBM    4.1   19.3k     2.8k\n",
      "17          Reliance Retail    4.0   19.2k       2k\n",
      "18   HDB Financial Services    4.0   17.7k     1.5k\n",
      "19  Larsen & Toubro Limited    4.1     16k     2.9k\n"
     ]
    }
   ],
   "source": [
    "# If response code is 403\n",
    "headers = {'User-Agent': 'Mozilla/5.0 (Windows NT 10.0; Win4; x64) AppleWebKit/537.36 (KHTML, like Gecko) Chrome/119.0.0.0 Safari/537.36'}\n",
    "\n",
    "# Requesting url\n",
    "webpage = requests.get('https://www.ambitionbox.com/list-of-companies?campaign=homepage_companies_widget' , headers=headers).text\n",
    "\n",
    "soup = BeautifulSoup(webpage, 'lxml')\n",
    "\n",
    "company = soup.find_all('div', class_=\"companyCardWrapper\")\n",
    "\n",
    "# Empty Lists for storing data in different columns\n",
    "name = []   \n",
    "rating = []\n",
    "reviews = []\n",
    "salaries = []\n",
    "benefits = []\n",
    "values = []\n",
    "\n",
    "# Loop to get data for each column\n",
    "for i in company :\n",
    "    name.append(i.find('h2').text.strip())\n",
    "    rating.append(i.find('span', class_=\"companyCardWrapper__companyRatingValue\").text.strip())\n",
    "    reviews.append(i.find_all('span', class_=\"companyCardWrapper__ActionCount\")[0].text.strip())\n",
    "    salaries.append(i.find_all('span', class_=\"companyCardWrapper__ActionCount\")[1].text.strip())\n",
    "    benefits.append(i.find_all('span', class_=\"companyCardWrapper__ActionCount\")[4].text.strip())\n",
    "    \n",
    "# Storing data in a DataFrame\n",
    "df_demo = pd.DataFrame({'name':name, 'rating':rating, 'reviews':reviews, 'benefits':benefits})\n",
    "print(df_demo)"
   ]
  },
  {
   "cell_type": "code",
   "execution_count": 3,
   "id": "f8e3eb50",
   "metadata": {},
   "outputs": [
    {
     "name": "stdout",
     "output_type": "stream",
     "text": [
      "                              name rating reviews benefits\n",
      "0                              TCS    3.8   74.9k    11.6k\n",
      "1                        Accenture    4.0   46.7k     7.2k\n",
      "2                        Cognizant    3.9   41.9k     5.9k\n",
      "3                            Wipro    3.8   40.3k     5.1k\n",
      "4                        Capgemini    3.8   34.5k     4.1k\n",
      "..                             ...    ...     ...      ...\n",
      "195               Publicis Sapient    3.6    2.6k      421\n",
      "196                           Atos    3.8    2.6k      372\n",
      "197     Utkarsh Small Finance Bank    3.9    2.6k      273\n",
      "198                       DCB Bank    3.9    2.6k      255\n",
      "199  Hindustan Coca Cola Beverages    4.3    2.5k      395\n",
      "\n",
      "[200 rows x 4 columns]\n"
     ]
    }
   ],
   "source": [
    "name = [] \n",
    "rating = []\n",
    "reviews = []\n",
    "salaries = []\n",
    "benefits = []\n",
    "values = []\n",
    "\n",
    "# Outer loop to update page number in the url\n",
    "for j in range(1,11):\n",
    "    \n",
    "    headers = {'User-Agent': 'Mozilla/5.0 (Windows NT 10.0; Win4; x64) AppleWebKit/537.36 (KHTML, like Gecko) Chrome/119.0.0.0 Safari/537.36'}\n",
    "\n",
    "    webpage = requests.get('https://www.ambitionbox.com/list-of-companies?campaign=homepage_companies_widget&page={}'.format(j) , headers=headers).text\n",
    "\n",
    "    soup = BeautifulSoup(webpage, 'lxml')\n",
    "\n",
    "    company = soup.find_all('div', class_=\"companyCardWrapper\")\n",
    "    \n",
    "\n",
    "# Inner loop to get data from each page\n",
    "    for i in company :\n",
    "        name.append(i.find('h2').text.strip())\n",
    "        rating.append(i.find('span', class_=\"companyCardWrapper__companyRatingValue\").text.strip())\n",
    "        reviews.append(i.find_all('span', class_=\"companyCardWrapper__ActionCount\")[0].text.strip())\n",
    "        salaries.append(i.find_all('span', class_=\"companyCardWrapper__ActionCount\")[1].text.strip())\n",
    "        benefits.append(i.find_all('span', class_=\"companyCardWrapper__ActionCount\")[4].text.strip())\n",
    "        \n",
    "# Storing data in a DataFrame\n",
    "df = pd.DataFrame({'name':name, 'rating':rating, 'reviews':reviews, 'benefits':benefits})\n",
    "print(df)\n",
    "\n",
    "# Exporting data to a csv file\n",
    "df.to_csv(\"companies_list.csv\")"
   ]
  },
  {
   "cell_type": "code",
   "execution_count": null,
   "id": "3ef24301",
   "metadata": {},
   "outputs": [],
   "source": []
  }
 ],
 "metadata": {
  "kernelspec": {
   "display_name": "Python 3 (ipykernel)",
   "language": "python",
   "name": "python3"
  },
  "language_info": {
   "codemirror_mode": {
    "name": "ipython",
    "version": 3
   },
   "file_extension": ".py",
   "mimetype": "text/x-python",
   "name": "python",
   "nbconvert_exporter": "python",
   "pygments_lexer": "ipython3",
   "version": "3.11.4"
  }
 },
 "nbformat": 4,
 "nbformat_minor": 5
}
